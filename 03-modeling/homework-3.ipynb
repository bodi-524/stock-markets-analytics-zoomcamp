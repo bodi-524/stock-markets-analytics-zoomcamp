{
 "cells": [
  {
   "cell_type": "markdown",
   "id": "9c388514",
   "metadata": {},
   "source": [
    "# Homework 3 Attempt"
   ]
  },
  {
   "cell_type": "markdown",
   "id": "b38920fd",
   "metadata": {},
   "source": [
    "## Module 3 Homework (2025 Cohort)\n",
    "\n",
    "In this homework, we're going to work with categorical variables, first ML models (Decision Trees), and hyperparameter tuning.\n",
    "\n",
    "Please note  use the [Colab Module 3](https://github.com/DataTalksClub/stock-markets-analytics-zoomcamp/blob/main/03-modeling/%5B2025%5D_Module_3_Colab_Time_Series_Modeling.ipynb) for all tasks to ensure you have the same dataframe used for the Modeling part, as covered during the lecture. \n",
    "\n",
    "<details>\n",
    "      <summary> HINT </summary>If you want to avoid data truncation in GitHub's UI, try either of the following options:\n",
    "* Open the notebook in https://colab.research.google.com/github/DataTalksClub/stock-markets-analytics-zoomcamp/blob/main/03-modeling/%5B2025%5D_Module_3_Colab_Time_Series_Modeling.ipynb.\n",
    "* Clone the repository to a local folder and open the notebook in Jupyter Notebook. </details>"
   ]
  },
  {
   "cell_type": "markdown",
   "id": "335c0658",
   "metadata": {},
   "source": [
    "### Question 1: Dummies for Month and Week-of-Month\n",
    "\n",
    "**What is the ABSOLUTE CORRELATION VALUE of the most correlated dummy variable <month>_w<week_of_month> with the binary outcome `is_positive_growth_30d_future`?**\n",
    "\n",
    "From the correlation analysis and modeling, you may have observed that October and November are potentially important seasonal months. In this task, you'll go further by generating dummy variables for both the **Month** and **Week-of-Month** (starting from 1). For example, the first week of October should be coded as: `'October_w1'`.\n",
    "\n",
    "Once you've generated these new variables, identify the one with the **highest absolute correlation** with `is_positive_growth_30d_future`, and round the result to **three decimal places**.\n"
   ]
  },
  {
   "cell_type": "markdown",
   "id": "3d3b6dd8",
   "metadata": {},
   "source": [
    "1. Use [this StackOverflow reference](https://stackoverflow.com/questions/25249033/week-of-a-month-pandas) to compute the week of the month using the following formula:\n",
    "  ```python\n",
    "  (d.day - 1) // 7 + 1"
   ]
  },
  {
   "cell_type": "code",
   "execution_count": null,
   "id": "ff72ede7",
   "metadata": {},
   "outputs": [],
   "source": [
    "# IMPORTS\n",
    "import numpy as np\n",
    "import pandas as pd\n",
    "\n",
    "#Fin Data Sources\n",
    "import yfinance as yf\n",
    "import pandas_datareader as pdr\n",
    "\n",
    "#Data viz\n",
    "import plotly.graph_objs as go\n",
    "import plotly.graph_objects as go\n",
    "import plotly.express as px\n",
    "\n",
    "import time\n",
    "from datetime import date\n",
    "\n",
    "# for graphs\n",
    "import matplotlib.pyplot as plt"
   ]
  },
  {
   "cell_type": "markdown",
   "id": "a24ab8f0",
   "metadata": {},
   "source": [
    "2. Create a new string variable that combines the month name and week of the month.\n",
    "Example: 'October_w1', 'November_w2', etc.\n"
   ]
  },
  {
   "cell_type": "markdown",
   "id": "ac81ed09",
   "metadata": {},
   "source": [
    "3. Add the new variable (e.g., `month_wom`) to your set of **categorical features**.\n",
    "\n",
    "   Your updated categorical feature list should include:\n",
    "   - `'Month'`\n",
    "   - `'Weekday'`\n",
    "   - `'Ticker'`\n",
    "   - `'ticker_type'`\n",
    "   - `'month_wom'`"
   ]
  },
  {
   "cell_type": "markdown",
   "id": "7f17043f",
   "metadata": {},
   "source": [
    "4. Use [`pandas.get_dummies()`](https://pandas.pydata.org/pandas-docs/stable/reference/api/pandas.get_dummies.html) to generate dummy variables for all categorical features.\n",
    "\n",
    "   This should result in approximately **115 dummy variables**, including around **60** for the `month_wom` feature (`12 months × up to 5 weeks`).\n"
   ]
  },
  {
   "cell_type": "markdown",
   "id": "488cd09f",
   "metadata": {},
   "source": [
    "5. Use [`DataFrame.corr()`](https://pandas.pydata.org/docs/reference/api/pandas.DataFrame.corr.html) to compute the correlation between each feature and the target variable `is_positive_growth_30d_future`.\n"
   ]
  },
  {
   "cell_type": "markdown",
   "id": "0868c220",
   "metadata": {},
   "source": [
    "6. Filter the correlation results to include only the dummy variables generated from `month_wom`.\n",
    "\n",
    "\n"
   ]
  },
  {
   "cell_type": "markdown",
   "id": "c73eb84a",
   "metadata": {},
   "source": [
    "\n",
    "7. Create a new column named `abs_corr` in the correlation results that stores the **absolute value** of the correlations."
   ]
  },
  {
   "cell_type": "markdown",
   "id": "1563f750",
   "metadata": {},
   "source": [
    "8. Sort the correlation results by `abs_corr` in **descending** order."
   ]
  },
  {
   "cell_type": "markdown",
   "id": "c5aef90c",
   "metadata": {},
   "source": [
    "9. Identify and report the **highest absolute correlation value** among the `month_wom` dummy variables, rounded to **three decimal places**."
   ]
  },
  {
   "cell_type": "markdown",
   "id": "86262f82",
   "metadata": {},
   "source": [
    "<details>\n",
    "      <summary>NOTE</summary>: new dummies will be used as features in the next tasks, please leave them in the dataset.    </details>"
   ]
  },
  {
   "cell_type": "markdown",
   "id": "231c3763",
   "metadata": {},
   "source": [
    "### Question 2:  Define New \"Hand\" Rules on Macro and Technical Indicator Variables \n",
    "\n",
    "**What is the precision score for the best of the NEW predictions (`pred3` or `pred4`), rounded to 3 digits after the comma?**\n",
    "\n",
    "In this task, you'll apply insights from the **visualized decision tree (`clf10`)** (see *Code Snippet 5: 1.4.4 Visualisation*) to manually define and evaluate new predictive rules."
   ]
  },
  {
   "cell_type": "markdown",
   "id": "c3d01a0f",
   "metadata": {},
   "source": [
    "1. **Define two new 'hand' rules** based on branches that lead to 'positive' predictions in the tree:\n",
    "   - `pred3_manual_dgs10_5`:  \n",
    "     ```python\n",
    "     (DGS10 <= 4) & (DGS5 <= 1)\n",
    "     ```\n",
    "   - `pred4_manual_dgs10_fedfunds`:  \n",
    "     ```python\n",
    "     (DGS10 > 4) & (FEDFUNDS <= 4.795)\n",
    "     ```\n",
    "\n",
    "<details>\n",
    "<summary>Hint</summary>: This is not exactly the same condition as in the estimated tree (original: `(DGS10 <= 4.825) & (DGS5 <= 0.745)`; `(DGS10 > 4.825) & (FEDFUNDS <= 4.795)`), since in that case, there are no true positive predictions for both variables. Consider why this might be the case.    </details>\n"
   ]
  },
  {
   "cell_type": "markdown",
   "id": "ef5dd5a2",
   "metadata": {},
   "source": [
    "2. **Extend Code Snippet 3** (Manual \"hand rule\" predictions):  \n",
    "   - Implement and apply the above two rules (`pred3`, `pred4`) to your dataset.\n",
    "   - Add the resulting predictions as new columns in your dataframe (e.g., `new_df`)."
   ]
  },
  {
   "cell_type": "markdown",
   "id": "63567747",
   "metadata": {},
   "source": [
    "3. **Compute precision**:\n",
    "   - For the rule that **does** make positive predictions on the TEST set, compute its **precision score**.\n",
    "   - Use standard precision metrics (`TP / (TP + FP)`).\n",
    "   - Round the precision score to **three decimal places**.  \n",
    "     Example: If your result is `0.57897`, your final answer should be: `0.579`.\n",
    "<details>\n",
    "<summary>Hint</summary>: This should already be visible in the code output, as the `IS_CORRECT` and `PREDICTIONS` sets should automatically include the new columns.</details>"
   ]
  },
  {
   "cell_type": "markdown",
   "id": "fa1433a9",
   "metadata": {},
   "source": [
    "### Question 3: Unique Correct Predictions from a 10-Level Decision Tree Classifier (`pred5_clf_10`)\n",
    "\n",
    "**What is the total number of records in the TEST dataset where the new prediction `pred5_clf_10` is correct, while all 'hand' rule predictions (`pred0` to `pred4`) are incorrect?**\n",
    "\n",
    "\n",
    "To ensure reproducibility, please include the following parameter in the Decision Tree Classifier:\n",
    "```python\n",
    "clf = DecisionTreeClassifier(max_depth=max_depth, random_state=42) \n",
    "```"
   ]
  },
  {
   "cell_type": "markdown",
   "id": "b0451056",
   "metadata": {},
   "source": [
    "#### Step 1: Train the Decision Tree and Generate Predictions\n",
    "\n",
    "- Initialize a Decision Tree Classifier with a maximum depth of 10 and set `random_state=42` for reproducibility.\n",
    "- Fit the classifier on the combined TRAIN and VALIDATION datasets.\n",
    "- Use the trained model to predict on the entire dataset (TRAIN + VALIDATION + TEST).\n",
    "- Store these predictions in a new column named `pred5_clf_10` within your main dataframe."
   ]
  },
  {
   "cell_type": "markdown",
   "id": "7313d242",
   "metadata": {},
   "source": [
    "#### Step 2: Identify Unique Correct Predictions by `pred5_clf_10`\n",
    "\n",
    "- Create a new boolean column, `only_pred5_is_correct`, that is `True` only when:\n",
    "  - The prediction from `pred5_clf_10` is correct (i.e., matches the true label).\n",
    "  - All other hand rule predictions (`pred0` through `pred4`) are incorrect."
   ]
  },
  {
   "cell_type": "markdown",
   "id": "aebe6075",
   "metadata": {},
   "source": [
    "#### Step 3: Count Unique Correct Predictions on the TEST Set\n",
    "\n",
    "- Convert the `only_pred5_is_correct` column from boolean to integer.\n",
    "- Filter the dataframe for records belonging to the TEST dataset.\n",
    "- Count how many records in the TEST set have `only_pred5_is_correct` equal to 1."
   ]
  },
  {
   "cell_type": "markdown",
   "id": "08a318fc",
   "metadata": {},
   "source": [
    "### Advanced (Optional)\n",
    "\n",
    "- To generalize this for many prediction columns (e.g., `pred0` to `pred99`), define a function that can be applied to an entire dataframe row.\n",
    "- This function should identify whether a specific prediction (`predX`) is uniquely correct (correct while all others are incorrect).\n",
    "- This approach avoids hardcoding conditions for each predictor and scales easily.\n",
    "- For examples of how to apply functions to rows in pandas, see this helpful resource:  \n",
    "  [Pandas apply function to every row](https://sparkbyexamples.com/pandas/pandas-apply-function-to-every-row/)"
   ]
  },
  {
   "cell_type": "markdown",
   "id": "85e60cf7",
   "metadata": {},
   "source": [
    "### Question 4:  Hyperparameter tuning for a Decision Tree\n",
    "\n",
    "**What is the optimal tree depth (from 1 to 20) for a DecisionTreeClassifier?**\n",
    "\n",
    "**NOTE:** please include `random_state=42` to the Decision Tree Classifier initialization (e.g., `clf = DecisionTreeClassifier(max_depth=max_depth, random_state=42)`) to ensure consistency in results.\n"
   ]
  },
  {
   "cell_type": "markdown",
   "id": "338015bb",
   "metadata": {},
   "source": [
    "### Instructions:\n",
    "\n",
    "- Iterate through `max_depth` values from 1 to 20.\n"
   ]
  },
  {
   "cell_type": "code",
   "execution_count": null,
   "id": "f3c09162",
   "metadata": {},
   "outputs": [],
   "source": [
    "- For each `max_depth`:\n",
    "  - Train a Decision Tree Classifier with the current `max_depth` on the combined TRAIN+VALIDATION dataset.\n"
   ]
  },
  {
   "cell_type": "markdown",
   "id": "a12771cf",
   "metadata": {},
   "source": [
    "- Optionally, visualize how the 'head' (top levels) of each fitted tree changes with increasing tree depth. You can use:\n",
    "  - [`sklearn.tree.plot_tree()`](https://scikit-learn.org/stable/modules/generated/sklearn.tree.plot_tree.html) for graphical visualization, or\n",
    "  - The compact textual approach with `export_text()` function. For example:\n",
    "    ```python\n",
    "    from sklearn.tree import export_text\n",
    "    tree_rules = export_text(model, feature_names=list(X_train), max_depth=3)\n",
    "    print(tree_rules)\n",
    "    ```\n"
   ]
  },
  {
   "cell_type": "markdown",
   "id": "2eecdc02",
   "metadata": {},
   "source": [
    "- Calculate the precision score on the TEST dataset for each fitted tree. You may also track precision on the VALIDATION dataset to observe signs of overfitting.\n"
   ]
  },
  {
   "cell_type": "markdown",
   "id": "a1177970",
   "metadata": {},
   "source": [
    "- Identify the optimal `max_depth` where the precision score on the TEST dataset is highest. This value is your **best_max_depth**.\n"
   ]
  },
  {
   "cell_type": "markdown",
   "id": "4deba0de",
   "metadata": {},
   "source": [
    "- Using **best_max_depth**, retrain the Decision Tree Classifier on the combined TRAIN+VALIDATION set.\n"
   ]
  },
  {
   "cell_type": "markdown",
   "id": "5b9fb500",
   "metadata": {},
   "source": [
    "- Predict on the entire dataset (TRAIN + VALIDATION + TEST) and add the predictions as a new column `pred6_clf_best` in your dataframe `new_df`.\n"
   ]
  },
  {
   "cell_type": "markdown",
   "id": "78d54178",
   "metadata": {},
   "source": [
    "- Compare the precision score of the tuned tree with previous predictions (`pred0` to `pred5`). You should observe an improvement, ideally achieving precision > 0.58, indicating the tuned tree outperforms earlier models."
   ]
  },
  {
   "cell_type": "markdown",
   "id": "52c58c83",
   "metadata": {},
   "source": [
    "### Advanced (Optional)\n",
    "\n",
    "- Plot the precision (or accuracy) scores against the `max_depth` values to detect saturation or overfitting trends.\n",
    "- Observe the trade-off between model complexity (deeper trees) and generalization capability.\n",
    "- For more information, consult the [scikit-learn Decision Trees documentation](https://scikit-learn.org/stable/modules/tree.html)."
   ]
  },
  {
   "cell_type": "markdown",
   "id": "6c325846",
   "metadata": {},
   "source": [
    "### [EXPLORATORY] Question 5: What data is missing? \n",
    "\n",
    "Now that you have gained insights from the correlation analysis and Decision Tree results regarding the most influential variables, suggest new indicators you would like to include in the dataset and explain your reasoning.\n",
    "\n",
    "Alternatively, you may propose a completely different approach based on your intuition, provided it remains relevant to the shared dataset of the largest stocks from India, the EU, and the US. If you choose this route, please also specify the data source."
   ]
  }
 ],
 "metadata": {
  "kernelspec": {
   "display_name": "Python 3",
   "language": "python",
   "name": "python3"
  },
  "language_info": {
   "name": "python",
   "version": "3.9.13"
  }
 },
 "nbformat": 4,
 "nbformat_minor": 5
}
