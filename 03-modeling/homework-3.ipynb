{
  "cells": [
    {
      "cell_type": "markdown",
      "id": "9c388514",
      "metadata": {
        "id": "9c388514"
      },
      "source": [
        "# Homework 3 Attempt"
      ]
    },
    {
      "cell_type": "markdown",
      "id": "b38920fd",
      "metadata": {
        "id": "b38920fd"
      },
      "source": [
        "## Module 3 Homework (2025 Cohort)\n",
        "\n",
        "In this homework, we're going to work with categorical variables, first ML models (Decision Trees), and hyperparameter tuning.\n",
        "\n",
        "Please note  use the [Colab Module 3](https://github.com/DataTalksClub/stock-markets-analytics-zoomcamp/blob/main/03-modeling/%5B2025%5D_Module_3_Colab_Time_Series_Modeling.ipynb) for all tasks to ensure you have the same dataframe used for the Modeling part, as covered during the lecture.\n",
        "\n",
        "<details>\n",
        "      <summary> HINT </summary>If you want to avoid data truncation in GitHub's UI, try either of the following options:\n",
        "* Open the notebook in https://colab.research.google.com/github/DataTalksClub/stock-markets-analytics-zoomcamp/blob/main/03-modeling/%5B2025%5D_Module_3_Colab_Time_Series_Modeling.ipynb.\n",
        "* Clone the repository to a local folder and open the notebook in Jupyter Notebook. </details>"
      ]
    },
    {
      "cell_type": "markdown",
      "id": "335c0658",
      "metadata": {
        "id": "335c0658"
      },
      "source": [
        "### Question 1: Dummies for Month and Week-of-Month\n",
        "\n",
        "**What is the ABSOLUTE CORRELATION VALUE of the most correlated dummy variable <month>_w<week_of_month> with the binary outcome `is_positive_growth_30d_future`?**\n",
        "\n",
        "From the correlation analysis and modeling, you may have observed that October and November are potentially important seasonal months. In this task, you'll go further by generating dummy variables for both the **Month** and **Week-of-Month** (starting from 1). For example, the first week of October should be coded as: `'October_w1'`.\n",
        "\n",
        "Once you've generated these new variables, identify the one with the **highest absolute correlation** with `is_positive_growth_30d_future`, and round the result to **three decimal places**.\n"
      ]
    },
    {
      "cell_type": "code",
      "execution_count": 21,
      "id": "ff72ede7",
      "metadata": {
        "id": "ff72ede7"
      },
      "outputs": [],
      "source": [
        "# IMPORTS\n",
        "import numpy as np\n",
        "import pandas as pd\n",
        "import math\n",
        "\n",
        "#Fin Data Sources\n",
        "import yfinance as yf\n",
        "import pandas_datareader as pdr\n",
        "\n",
        "#Data viz\n",
        "import plotly.graph_objs as go\n",
        "import plotly.graph_objects as go\n",
        "import plotly.express as px\n",
        "\n",
        "import time\n",
        "from datetime import date\n",
        "\n",
        "# for graphs\n",
        "import matplotlib.pyplot as plt"
      ]
    },
    {
      "cell_type": "code",
      "source": [
        "!gdown https://drive.google.com/file/d/1mb0ae2M5AouSDlqcUnIwaHq7avwGNrmB/view?usp=sharing --fuzzy -O /content/\n",
        "df_full = pd.read_parquet(\"/content/stocks_df_combined_2025_06_13.parquet.brotli\", )"
      ],
      "metadata": {
        "id": "9zz6-p6f9IHZ",
        "outputId": "76904e24-89be-4b29-c62f-6b5b17ad5dc0",
        "colab": {
          "base_uri": "https://localhost:8080/"
        },
        "collapsed": true
      },
      "id": "9zz6-p6f9IHZ",
      "execution_count": 2,
      "outputs": [
        {
          "output_type": "stream",
          "name": "stdout",
          "text": [
            "Downloading...\n",
            "From (original): https://drive.google.com/uc?id=1mb0ae2M5AouSDlqcUnIwaHq7avwGNrmB\n",
            "From (redirected): https://drive.google.com/uc?id=1mb0ae2M5AouSDlqcUnIwaHq7avwGNrmB&confirm=t&uuid=1e032586-f1af-4766-b97c-09e92e8ad9ef\n",
            "To: /content/stocks_df_combined_2025_06_13.parquet.brotli\n",
            "100% 130M/130M [00:01<00:00, 122MB/s]\n"
          ]
        }
      ]
    },
    {
      "cell_type": "code",
      "source": [
        "# growth indicators (but not future growth)\n",
        "GROWTH = [g for g in df_full.keys() if (g.find('growth_')==0)&(g.find('future')<0)]\n",
        "OHLCV = ['Open','High','Low','Close','Adj Close_x','Volume']\n",
        "CATEGORICAL = ['Month', 'Weekday', 'Ticker', 'ticker_type']\n",
        "TO_PREDICT = [g for g in df_full.keys() if (g.find('future')>=0)]\n",
        "TO_DROP = ['Year','Date','index_x', 'index_y', 'index', 'Quarter','Adj Close_y'] + CATEGORICAL + OHLCV\n",
        "df_full['ln_volume'] = df_full.Volume.apply(lambda x: np.log(x))\n",
        "CUSTOM_NUMERICAL = ['SMA10', 'SMA20', 'growing_moving_average', 'high_minus_low_relative','volatility', 'ln_volume']\n",
        "TECHNICAL_INDICATORS = ['adx', 'adxr', 'apo', 'aroon_1','aroon_2', 'aroonosc',\n",
        " 'bop', 'cci', 'cmo','dx', 'macd', 'macdsignal', 'macdhist', 'macd_ext',\n",
        " 'macdsignal_ext', 'macdhist_ext', 'macd_fix', 'macdsignal_fix',\n",
        " 'macdhist_fix', 'mfi', 'minus_di', 'mom', 'plus_di', 'dm', 'ppo',\n",
        " 'roc', 'rocp', 'rocr', 'rocr100', 'rsi', 'slowk', 'slowd', 'fastk',\n",
        " 'fastd', 'fastk_rsi', 'fastd_rsi', 'trix', 'ultosc', 'willr',\n",
        " 'ad', 'adosc', 'obv', 'atr', 'natr', 'ht_dcperiod', 'ht_dcphase',\n",
        " 'ht_phasor_inphase', 'ht_phasor_quadrature', 'ht_sine_sine', 'ht_sine_leadsine',\n",
        " 'ht_trendmod', 'avgprice', 'medprice', 'typprice', 'wclprice']\n",
        "TECHNICAL_PATTERNS = [g for g in df_full.keys() if g.find('cdl')>=0]\n",
        "MACRO = ['gdppot_us_yoy', 'gdppot_us_qoq', 'cpi_core_yoy', 'cpi_core_mom', 'FEDFUNDS',\n",
        " 'DGS1', 'DGS5', 'DGS10']\n",
        "NUMERICAL = GROWTH + TECHNICAL_INDICATORS + TECHNICAL_PATTERNS + CUSTOM_NUMERICAL + MACRO\n",
        "OTHER = [k for k in df_full.keys() if k not in OHLCV + CATEGORICAL + NUMERICAL + TO_DROP]\n",
        "\n",
        "# truncated df_full with 25 years of data (and defined growth variables)\n",
        "df = df_full[df_full.Date>='2000-01-01']\n",
        "print( df.columns.tolist())"
      ],
      "metadata": {
        "colab": {
          "base_uri": "https://localhost:8080/"
        },
        "id": "EphLpWgsb-PG",
        "outputId": "08c3a00c-9828-4350-8327-c6d56c0eac56"
      },
      "id": "EphLpWgsb-PG",
      "execution_count": 43,
      "outputs": [
        {
          "output_type": "stream",
          "name": "stderr",
          "text": [
            "/tmp/ipython-input-43-1007625663.py:7: RuntimeWarning: divide by zero encountered in log\n",
            "  df_full['ln_volume'] = df_full.Volume.apply(lambda x: np.log(x))\n"
          ]
        },
        {
          "output_type": "stream",
          "name": "stdout",
          "text": [
            "['Open', 'High', 'Low', 'Close_x', 'Volume', 'Dividends', 'Stock Splits', 'Ticker', 'Year', 'Month', 'Weekday', 'Date', 'growth_1d', 'growth_3d', 'growth_7d', 'growth_30d', 'growth_90d', 'growth_365d', 'growth_future_30d', 'SMA10', 'SMA20', 'growing_moving_average', 'high_minus_low_relative', 'volatility', 'is_positive_growth_30d_future', 'ticker_type', 'index_x', 'adx', 'adxr', 'apo', 'aroon_1', 'aroon_2', 'aroonosc', 'bop', 'cci', 'cmo', 'dx', 'macd', 'macdsignal', 'macdhist', 'macd_ext', 'macdsignal_ext', 'macdhist_ext', 'macd_fix', 'macdsignal_fix', 'macdhist_fix', 'mfi', 'minus_di', 'mom', 'plus_di', 'dm', 'ppo', 'roc', 'rocp', 'rocr', 'rocr100', 'rsi', 'slowk', 'slowd', 'fastk', 'fastd', 'fastk_rsi', 'fastd_rsi', 'trix', 'ultosc', 'willr', 'index_y', 'ad', 'adosc', 'obv', 'atr', 'natr', 'ht_dcperiod', 'ht_dcphase', 'ht_phasor_inphase', 'ht_phasor_quadrature', 'ht_sine_sine', 'ht_sine_leadsine', 'ht_trendmod', 'avgprice', 'medprice', 'typprice', 'wclprice', 'index', 'cdl2crows', 'cdl3blackrows', 'cdl3inside', 'cdl3linestrike', 'cdl3outside', 'cdl3starsinsouth', 'cdl3whitesoldiers', 'cdlabandonedbaby', 'cdladvancedblock', 'cdlbelthold', 'cdlbreakaway', 'cdlclosingmarubozu', 'cdlconcealbabyswall', 'cdlcounterattack', 'cdldarkcloudcover', 'cdldoji', 'cdldojistar', 'cdldragonflydoji', 'cdlengulfing', 'cdleveningdojistar', 'cdleveningstar', 'cdlgapsidesidewhite', 'cdlgravestonedoji', 'cdlhammer', 'cdlhangingman', 'cdlharami', 'cdlharamicross', 'cdlhighwave', 'cdlhikkake', 'cdlhikkakemod', 'cdlhomingpigeon', 'cdlidentical3crows', 'cdlinneck', 'cdlinvertedhammer', 'cdlkicking', 'cdlkickingbylength', 'cdlladderbottom', 'cdllongleggeddoji', 'cdllongline', 'cdlmarubozu', 'cdlmatchinglow', 'cdlmathold', 'cdlmorningdojistar', 'cdlmorningstar', 'cdlonneck', 'cdlpiercing', 'cdlrickshawman', 'cdlrisefall3methods', 'cdlseparatinglines', 'cdlshootingstar', 'cdlshortline', 'cdlspinningtop', 'cdlstalledpattern', 'cdlsticksandwich', 'cdltakuru', 'cdltasukigap', 'cdlthrusting', 'cdltristar', 'cdlunique3river', 'cdlupsidegap2crows', 'cdlxsidegap3methods', 'growth_dax_1d', 'growth_dax_3d', 'growth_dax_7d', 'growth_dax_30d', 'growth_dax_90d', 'growth_dax_365d', 'growth_snp500_1d', 'growth_snp500_3d', 'growth_snp500_7d', 'growth_snp500_30d', 'growth_snp500_90d', 'growth_snp500_365d', 'growth_dji_1d', 'growth_dji_3d', 'growth_dji_7d', 'growth_dji_30d', 'growth_dji_90d', 'growth_dji_365d', 'growth_epi_1d', 'growth_epi_3d', 'growth_epi_7d', 'growth_epi_30d', 'growth_epi_90d', 'growth_epi_365d', 'Quarter', 'gdppot_us_yoy', 'gdppot_us_qoq', 'cpi_core_yoy', 'cpi_core_mom', 'FEDFUNDS', 'DGS1', 'DGS5', 'DGS10', 'Close_y', 'growth_gold_1d', 'growth_gold_3d', 'growth_gold_7d', 'growth_gold_30d', 'growth_gold_90d', 'growth_gold_365d', 'growth_wti_oil_1d', 'growth_wti_oil_3d', 'growth_wti_oil_7d', 'growth_wti_oil_30d', 'growth_wti_oil_90d', 'growth_wti_oil_365d', 'growth_brent_oil_1d', 'growth_brent_oil_3d', 'growth_brent_oil_7d', 'growth_brent_oil_30d', 'growth_brent_oil_90d', 'growth_brent_oil_365d', 'growth_btc_usd_1d', 'growth_btc_usd_3d', 'growth_btc_usd_7d', 'growth_btc_usd_30d', 'growth_btc_usd_90d', 'growth_btc_usd_365d', 'ln_volume']\n"
          ]
        }
      ]
    },
    {
      "cell_type": "markdown",
      "source": [
        "1. Use [this StackOverflow reference](https://stackoverflow.com/questions/25249033/week-of-a-month-pandas) to compute the week of the month using the following formula:\n",
        "\n",
        "\n",
        "  (d.day - 1) // 7 + 1"
      ],
      "metadata": {
        "id": "nqY77bW2c1pG"
      },
      "id": "nqY77bW2c1pG"
    },
    {
      "cell_type": "code",
      "source": [
        "df.loc[:, 'WeekInMonth'] = (df['Date'].dt.day - 1) // 7 + 1\n",
        "# print(df.loc[:, ['Date', 'WeekInMonth']].head(10))\n",
        "print(df[['Date','WeekInMonth']].head(10))"
      ],
      "metadata": {
        "colab": {
          "base_uri": "https://localhost:8080/"
        },
        "id": "pmwT9NtktoCX",
        "outputId": "be5b2701-a587-4a08-d6b4-3ed7122aa8fc"
      },
      "id": "pmwT9NtktoCX",
      "execution_count": 44,
      "outputs": [
        {
          "output_type": "stream",
          "name": "stdout",
          "text": [
            "           Date  WeekInMonth\n",
            "3490 2000-01-03            1\n",
            "3491 2000-01-04            1\n",
            "3492 2000-01-05            1\n",
            "3493 2000-01-06            1\n",
            "3494 2000-01-07            1\n",
            "3495 2000-01-10            2\n",
            "3496 2000-01-11            2\n",
            "3497 2000-01-12            2\n",
            "3498 2000-01-13            2\n",
            "3499 2000-01-14            2\n"
          ]
        }
      ]
    },
    {
      "cell_type": "markdown",
      "id": "a24ab8f0",
      "metadata": {
        "id": "a24ab8f0"
      },
      "source": [
        "2. Create a new string variable that combines the month name and week of the month.\n",
        "Example: 'October_w1', 'November_w2', etc.\n"
      ]
    },
    {
      "cell_type": "code",
      "source": [
        "df.loc[:,'Month'] = df.Month.dt.strftime('%B')\n",
        "df.loc[:,'Weekday'] = df.Weekday.astype(str)\n",
        "df.loc[:,'WeekInMonth'] = df.WeekInMonth.astype(str)\n",
        "df.loc[:,'month_wom'] = df.Month + '_w' + df.WeekInMonth"
      ],
      "metadata": {
        "colab": {
          "base_uri": "https://localhost:8080/"
        },
        "id": "xD2n05eYthJi",
        "outputId": "842343ca-43be-4354-ca8f-c570ddd2dcac"
      },
      "id": "xD2n05eYthJi",
      "execution_count": 45,
      "outputs": [
        {
          "output_type": "stream",
          "name": "stderr",
          "text": [
            "/tmp/ipython-input-45-1352764338.py:1: FutureWarning: Setting an item of incompatible dtype is deprecated and will raise in a future error of pandas. Value '['January' 'January' 'January' ... 'June' 'June' 'June']' has dtype incompatible with datetime64[ns], please explicitly cast to a compatible dtype first.\n",
            "  df.loc[:,'Month'] = df.Month.dt.strftime('%B')\n"
          ]
        }
      ]
    },
    {
      "cell_type": "markdown",
      "id": "ac81ed09",
      "metadata": {
        "id": "ac81ed09"
      },
      "source": [
        "3. Add the new variable (e.g., `month_wom`) to your set of **categorical features**.\n",
        "\n",
        "   Your updated categorical feature list should include:\n",
        "   - `'Month'`\n",
        "   - `'Weekday'`\n",
        "   - `'Ticker'`\n",
        "   - `'ticker_type'`\n",
        "   - `'month_wom'`"
      ]
    },
    {
      "cell_type": "code",
      "source": [
        "CATEGORICAL = ['Month', 'Weekday', 'Ticker', 'ticker_type', 'month_wom']"
      ],
      "metadata": {
        "id": "VzFDKCCVuKn3"
      },
      "id": "VzFDKCCVuKn3",
      "execution_count": null,
      "outputs": []
    },
    {
      "cell_type": "markdown",
      "id": "7f17043f",
      "metadata": {
        "id": "7f17043f"
      },
      "source": [
        "4. Use [`pandas.get_dummies()`](https://pandas.pydata.org/pandas-docs/stable/reference/api/pandas.get_dummies.html) to generate dummy variables for all categorical features.\n",
        "\n",
        "   This should result in approximately **115 dummy variables**, including around **60** for the `month_wom` feature (`12 months × up to 5 weeks`).\n"
      ]
    },
    {
      "cell_type": "code",
      "source": [
        "dummy_variables = pd.get_dummies(df[CATEGORICAL], dtype='int32')\n",
        "dummy_variables.info(verbose=True, show_counts=True)"
      ],
      "metadata": {
        "id": "uAGLLp2juvJi"
      },
      "id": "uAGLLp2juvJi",
      "execution_count": 38,
      "outputs": []
    },
    {
      "cell_type": "markdown",
      "id": "488cd09f",
      "metadata": {
        "id": "488cd09f"
      },
      "source": [
        "5. Use [`DataFrame.corr()`](https://pandas.pydata.org/docs/reference/api/pandas.DataFrame.corr.html) to compute the correlation between each feature and the target variable `is_positive_growth_30d_future`.\n"
      ]
    },
    {
      "cell_type": "code",
      "source": [
        "DUMMIES = dummy_variables.keys().to_list()\n",
        "df_with_dummies = pd.concat([df, dummy_variables], axis=1)\n",
        "df_with_dummies[NUMERICAL+DUMMIES].info()"
      ],
      "metadata": {
        "id": "hJLhirGcwPIB",
        "outputId": "d74d9a45-54ba-4e4e-d374-902ade6b56ff",
        "colab": {
          "base_uri": "https://localhost:8080/"
        }
      },
      "id": "hJLhirGcwPIB",
      "execution_count": 47,
      "outputs": [
        {
          "output_type": "stream",
          "name": "stdout",
          "text": [
            "<class 'pandas.core.frame.DataFrame'>\n",
            "Index: 191795 entries, 3490 to 5700\n",
            "Columns: 299 entries, growth_1d to month_wom_September_w5\n",
            "dtypes: float64(121), int32(177), int64(1)\n",
            "memory usage: 309.5 MB\n"
          ]
        }
      ]
    },
    {
      "cell_type": "markdown",
      "id": "0868c220",
      "metadata": {
        "id": "0868c220"
      },
      "source": [
        "6. Filter the correlation results to include only the dummy variables generated from `month_wom`.\n",
        "\n",
        "\n"
      ]
    },
    {
      "cell_type": "markdown",
      "id": "c73eb84a",
      "metadata": {
        "id": "c73eb84a"
      },
      "source": [
        "\n",
        "7. Create a new column named `abs_corr` in the correlation results that stores the **absolute value** of the correlations."
      ]
    },
    {
      "cell_type": "markdown",
      "id": "1563f750",
      "metadata": {
        "id": "1563f750"
      },
      "source": [
        "8. Sort the correlation results by `abs_corr` in **descending** order."
      ]
    },
    {
      "cell_type": "markdown",
      "id": "c5aef90c",
      "metadata": {
        "id": "c5aef90c"
      },
      "source": [
        "9. Identify and report the **highest absolute correlation value** among the `month_wom` dummy variables, rounded to **three decimal places**."
      ]
    },
    {
      "cell_type": "markdown",
      "id": "86262f82",
      "metadata": {
        "id": "86262f82"
      },
      "source": [
        "<details>\n",
        "      <summary>NOTE</summary>: new dummies will be used as features in the next tasks, please leave them in the dataset.    </details>"
      ]
    },
    {
      "cell_type": "markdown",
      "id": "231c3763",
      "metadata": {
        "id": "231c3763"
      },
      "source": [
        "### Question 2:  Define New \"Hand\" Rules on Macro and Technical Indicator Variables\n",
        "\n",
        "**What is the precision score for the best of the NEW predictions (`pred3` or `pred4`), rounded to 3 digits after the comma?**\n",
        "\n",
        "In this task, you'll apply insights from the **visualized decision tree (`clf10`)** (see *Code Snippet 5: 1.4.4 Visualisation*) to manually define and evaluate new predictive rules."
      ]
    },
    {
      "cell_type": "markdown",
      "id": "c3d01a0f",
      "metadata": {
        "id": "c3d01a0f"
      },
      "source": [
        "1. **Define two new 'hand' rules** based on branches that lead to 'positive' predictions in the tree:\n",
        "   - `pred3_manual_dgs10_5`:  \n",
        "     ```python\n",
        "     (DGS10 <= 4) & (DGS5 <= 1)\n",
        "     ```\n",
        "   - `pred4_manual_dgs10_fedfunds`:  \n",
        "     ```python\n",
        "     (DGS10 > 4) & (FEDFUNDS <= 4.795)\n",
        "     ```\n",
        "\n",
        "<details>\n",
        "<summary>Hint</summary>: This is not exactly the same condition as in the estimated tree (original: `(DGS10 <= 4.825) & (DGS5 <= 0.745)`; `(DGS10 > 4.825) & (FEDFUNDS <= 4.795)`), since in that case, there are no true positive predictions for both variables. Consider why this might be the case.    </details>\n"
      ]
    },
    {
      "cell_type": "markdown",
      "id": "ef5dd5a2",
      "metadata": {
        "id": "ef5dd5a2"
      },
      "source": [
        "2. **Extend Code Snippet 3** (Manual \"hand rule\" predictions):  \n",
        "   - Implement and apply the above two rules (`pred3`, `pred4`) to your dataset.\n",
        "   - Add the resulting predictions as new columns in your dataframe (e.g., `new_df`)."
      ]
    },
    {
      "cell_type": "markdown",
      "id": "63567747",
      "metadata": {
        "id": "63567747"
      },
      "source": [
        "3. **Compute precision**:\n",
        "   - For the rule that **does** make positive predictions on the TEST set, compute its **precision score**.\n",
        "   - Use standard precision metrics (`TP / (TP + FP)`).\n",
        "   - Round the precision score to **three decimal places**.  \n",
        "     Example: If your result is `0.57897`, your final answer should be: `0.579`.\n",
        "<details>\n",
        "<summary>Hint</summary>: This should already be visible in the code output, as the `IS_CORRECT` and `PREDICTIONS` sets should automatically include the new columns.</details>"
      ]
    },
    {
      "cell_type": "markdown",
      "id": "fa1433a9",
      "metadata": {
        "id": "fa1433a9"
      },
      "source": [
        "### Question 3: Unique Correct Predictions from a 10-Level Decision Tree Classifier (`pred5_clf_10`)\n",
        "\n",
        "**What is the total number of records in the TEST dataset where the new prediction `pred5_clf_10` is correct, while all 'hand' rule predictions (`pred0` to `pred4`) are incorrect?**\n",
        "\n",
        "\n",
        "To ensure reproducibility, please include the following parameter in the Decision Tree Classifier:\n",
        "```python\n",
        "clf = DecisionTreeClassifier(max_depth=max_depth, random_state=42)\n",
        "```"
      ]
    },
    {
      "cell_type": "markdown",
      "id": "b0451056",
      "metadata": {
        "id": "b0451056"
      },
      "source": [
        "#### Step 1: Train the Decision Tree and Generate Predictions\n",
        "\n",
        "- Initialize a Decision Tree Classifier with a maximum depth of 10 and set `random_state=42` for reproducibility.\n",
        "- Fit the classifier on the combined TRAIN and VALIDATION datasets.\n",
        "- Use the trained model to predict on the entire dataset (TRAIN + VALIDATION + TEST).\n",
        "- Store these predictions in a new column named `pred5_clf_10` within your main dataframe."
      ]
    },
    {
      "cell_type": "markdown",
      "id": "7313d242",
      "metadata": {
        "id": "7313d242"
      },
      "source": [
        "#### Step 2: Identify Unique Correct Predictions by `pred5_clf_10`\n",
        "\n",
        "- Create a new boolean column, `only_pred5_is_correct`, that is `True` only when:\n",
        "  - The prediction from `pred5_clf_10` is correct (i.e., matches the true label).\n",
        "  - All other hand rule predictions (`pred0` through `pred4`) are incorrect."
      ]
    },
    {
      "cell_type": "markdown",
      "id": "aebe6075",
      "metadata": {
        "id": "aebe6075"
      },
      "source": [
        "#### Step 3: Count Unique Correct Predictions on the TEST Set\n",
        "\n",
        "- Convert the `only_pred5_is_correct` column from boolean to integer.\n",
        "- Filter the dataframe for records belonging to the TEST dataset.\n",
        "- Count how many records in the TEST set have `only_pred5_is_correct` equal to 1."
      ]
    },
    {
      "cell_type": "markdown",
      "id": "08a318fc",
      "metadata": {
        "id": "08a318fc"
      },
      "source": [
        "### Advanced (Optional)\n",
        "\n",
        "- To generalize this for many prediction columns (e.g., `pred0` to `pred99`), define a function that can be applied to an entire dataframe row.\n",
        "- This function should identify whether a specific prediction (`predX`) is uniquely correct (correct while all others are incorrect).\n",
        "- This approach avoids hardcoding conditions for each predictor and scales easily.\n",
        "- For examples of how to apply functions to rows in pandas, see this helpful resource:  \n",
        "  [Pandas apply function to every row](https://sparkbyexamples.com/pandas/pandas-apply-function-to-every-row/)"
      ]
    },
    {
      "cell_type": "markdown",
      "id": "85e60cf7",
      "metadata": {
        "id": "85e60cf7"
      },
      "source": [
        "### Question 4:  Hyperparameter tuning for a Decision Tree\n",
        "\n",
        "**What is the optimal tree depth (from 1 to 20) for a DecisionTreeClassifier?**\n",
        "\n",
        "**NOTE:** please include `random_state=42` to the Decision Tree Classifier initialization (e.g., `clf = DecisionTreeClassifier(max_depth=max_depth, random_state=42)`) to ensure consistency in results.\n"
      ]
    },
    {
      "cell_type": "markdown",
      "id": "338015bb",
      "metadata": {
        "id": "338015bb"
      },
      "source": [
        "### Instructions:\n",
        "\n",
        "- Iterate through `max_depth` values from 1 to 20.\n"
      ]
    },
    {
      "cell_type": "markdown",
      "source": [
        "- For each `max_depth`:\n",
        "  - Train a Decision Tree Classifier with the current `max_depth` on the combined TRAIN+VALIDATION dataset.\n"
      ],
      "metadata": {
        "id": "dVRVsg_FboXM"
      },
      "id": "dVRVsg_FboXM"
    },
    {
      "cell_type": "markdown",
      "id": "a12771cf",
      "metadata": {
        "id": "a12771cf"
      },
      "source": [
        "- Optionally, visualize how the 'head' (top levels) of each fitted tree changes with increasing tree depth. You can use:\n",
        "  - [`sklearn.tree.plot_tree()`](https://scikit-learn.org/stable/modules/generated/sklearn.tree.plot_tree.html) for graphical visualization, or\n",
        "  - The compact textual approach with `export_text()` function. For example:\n",
        "    ```python\n",
        "    from sklearn.tree import export_text\n",
        "    tree_rules = export_text(model, feature_names=list(X_train), max_depth=3)\n",
        "    print(tree_rules)\n",
        "    ```\n"
      ]
    },
    {
      "cell_type": "markdown",
      "id": "2eecdc02",
      "metadata": {
        "id": "2eecdc02"
      },
      "source": [
        "- Calculate the precision score on the TEST dataset for each fitted tree. You may also track precision on the VALIDATION dataset to observe signs of overfitting.\n"
      ]
    },
    {
      "cell_type": "markdown",
      "id": "a1177970",
      "metadata": {
        "id": "a1177970"
      },
      "source": [
        "- Identify the optimal `max_depth` where the precision score on the TEST dataset is highest. This value is your **best_max_depth**.\n"
      ]
    },
    {
      "cell_type": "markdown",
      "id": "4deba0de",
      "metadata": {
        "id": "4deba0de"
      },
      "source": [
        "- Using **best_max_depth**, retrain the Decision Tree Classifier on the combined TRAIN+VALIDATION set.\n"
      ]
    },
    {
      "cell_type": "markdown",
      "id": "5b9fb500",
      "metadata": {
        "id": "5b9fb500"
      },
      "source": [
        "- Predict on the entire dataset (TRAIN + VALIDATION + TEST) and add the predictions as a new column `pred6_clf_best` in your dataframe `new_df`.\n"
      ]
    },
    {
      "cell_type": "markdown",
      "id": "78d54178",
      "metadata": {
        "id": "78d54178"
      },
      "source": [
        "- Compare the precision score of the tuned tree with previous predictions (`pred0` to `pred5`). You should observe an improvement, ideally achieving precision > 0.58, indicating the tuned tree outperforms earlier models."
      ]
    },
    {
      "cell_type": "markdown",
      "id": "52c58c83",
      "metadata": {
        "id": "52c58c83"
      },
      "source": [
        "### Advanced (Optional)\n",
        "\n",
        "- Plot the precision (or accuracy) scores against the `max_depth` values to detect saturation or overfitting trends.\n",
        "- Observe the trade-off between model complexity (deeper trees) and generalization capability.\n",
        "- For more information, consult the [scikit-learn Decision Trees documentation](https://scikit-learn.org/stable/modules/tree.html)."
      ]
    },
    {
      "cell_type": "markdown",
      "id": "6c325846",
      "metadata": {
        "id": "6c325846"
      },
      "source": [
        "### [EXPLORATORY] Question 5: What data is missing?\n",
        "\n",
        "Now that you have gained insights from the correlation analysis and Decision Tree results regarding the most influential variables, suggest new indicators you would like to include in the dataset and explain your reasoning.\n",
        "\n",
        "Alternatively, you may propose a completely different approach based on your intuition, provided it remains relevant to the shared dataset of the largest stocks from India, the EU, and the US. If you choose this route, please also specify the data source."
      ]
    }
  ],
  "metadata": {
    "kernelspec": {
      "display_name": "Python 3",
      "language": "python",
      "name": "python3"
    },
    "language_info": {
      "name": "python",
      "version": "3.9.13"
    },
    "colab": {
      "provenance": []
    }
  },
  "nbformat": 4,
  "nbformat_minor": 5
}